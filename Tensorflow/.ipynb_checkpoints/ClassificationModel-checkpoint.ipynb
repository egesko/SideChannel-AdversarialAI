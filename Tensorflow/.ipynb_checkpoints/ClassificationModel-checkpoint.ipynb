{
 "cells": [
  {
   "cell_type": "code",
   "execution_count": 1,
   "id": "18d12369-f02b-4b9e-b0d2-fbf40f4fadc1",
   "metadata": {},
   "outputs": [],
   "source": [
    "import os\n",
    "os.environ['TF_CPP_MIN_LOG_LEVEL'] = '2'\n",
    "import tensorflow as tf\n",
    "from tensorflow import keras\n",
    "from tensorflow.keras import layers\n",
    "from tensorflow.keras.datasets import cifar10\n",
    "from csv import writer\n",
    "import pandas as pd\n",
    "\n",
    "import numpy as np\n",
    "from matplotlib import pyplot as plt\n",
    "from matplotlib import ticker as ticker"
   ]
  },
  {
   "cell_type": "code",
   "execution_count": 2,
   "id": "430f180e-bcac-4aa1-a04a-710bb7e05f36",
   "metadata": {},
   "outputs": [],
   "source": [
    "physical_devices = tf.config.list_physical_devices('GPU')\n",
    "tf.config.experimental.set_memory_growth(physical_devices[0],True)"
   ]
  },
  {
   "cell_type": "code",
   "execution_count": 3,
   "id": "94577011-5e80-441d-a2c2-70571fa02a29",
   "metadata": {},
   "outputs": [],
   "source": [
    "train_X = pd.read_csv('DataSet/trainX13.csv', header=None)\n",
    "train_Y = pd.read_csv('DataSet/trainY13.csv', header=None)\n",
    "\n",
    "trainY = train_Y.to_numpy()\n",
    "trainX = train_X.to_numpy()\n",
    "trainX = np.expand_dims(trainX,axis=2)"
   ]
  },
  {
   "cell_type": "code",
   "execution_count": 4,
   "id": "76cc9df3-9492-441f-bc37-66b0208cccc3",
   "metadata": {},
   "outputs": [],
   "source": [
    "#minimum = np.amin(trainX)\n",
    "#maximum = np.amax(trainX)\n",
    "\n",
    "#trainX = (trainX-minimum)/(maximum-minimum)"
   ]
  },
  {
   "cell_type": "code",
   "execution_count": 5,
   "id": "665ff2db-76e6-42ba-9616-bae2d69044a7",
   "metadata": {},
   "outputs": [],
   "source": [
    "numberOfWebsites = 14\n",
    "def my_model_sddec():\n",
    "\n",
    "    input_1 = keras.Input(shape = (6000,1))\n",
    "\n",
    "    conv1d_1 = layers.Conv1D(256,16,strides=3,padding='valid',activation='relu',use_bias=True,kernel_initializer='VarianceScaling',bias_initializer = 'Zeros')(input_1)#possibly update kernel_initializer\n",
    "    max_pooling1d_1 = layers.MaxPooling1D(pool_size = 4,strides = 4, padding = 'same')(conv1d_1)\n",
    "\n",
    "    conv1d_2 = layers.Conv1D(128,8,strides=3,padding='valid',activation='relu',use_bias=True,kernel_initializer='VarianceScaling',bias_initializer = 'Zeros')(max_pooling1d_1)#possibly update kernel_initializer\n",
    "    max_pooling1d_2 = layers.MaxPooling1D(pool_size = 4,strides = 4, padding = 'same')(conv1d_2)\n",
    "\n",
    "    conv1d_3 = layers.Conv1D(32,8,strides=3,padding='same',activation='relu',use_bias=True,kernel_initializer='VarianceScaling',bias_initializer = 'Zeros')(max_pooling1d_2)#possibly update kernel_initializer\n",
    "    max_pooling1d_2 = layers.MaxPooling1D(pool_size = 4,strides = 4, padding = 'same')(conv1d_3)\n",
    "\n",
    "    # conv1d_1 = layers.Conv1D(256,16,strides=3,padding='valid',activation='relu',use_bias=True,kernel_initializer='VarianceScaling',bias_initializer = 'Zeros')(input_1)#possibly update kernel_initializer\n",
    "    \n",
    "    # max_pooling1d_1 = layers.MaxPooling1D(pool_size = 4,strides = 4, padding = 'same')(conv1d_1)\n",
    "    \n",
    "    # conv1d_2 = layers.Conv1D(32,8,strides=3,padding='same',activation='relu',use_bias=True,kernel_initializer='VarianceScaling',bias_initializer = 'Zeros')(max_pooling1d_1)#possibly update kernel_initializer\n",
    "\n",
    "    # max_pooling1d_2 = layers.MaxPooling1D(pool_size = 4,strides = 4, padding = 'same')(conv1d_2)\n",
    "\n",
    "    #lstm_1 = layers.LSTM(32,activation='tanh',recurrent_activation='hard_sigmoid',use_bias=True,kernel_initializer='VarianceScaling',recurrent_initializer = 'orthogonal',bias_initializer='Zeros', return_sequences = True)(max_pooling1d_2) #Variance Scaling\n",
    "\n",
    "    flatten_1 = layers.Flatten()(max_pooling1d_2)\n",
    "    \n",
    "    #x = layers.Dense(200,activation = 'softmax')(flatten_1)\n",
    "\n",
    "    #dropout_1 = layers.Dropout(0.3)(flatten_1)\n",
    "\n",
    "    #dense_1 = layers.Dense(300,activation = 'relu')(dropout_1)\n",
    "\n",
    "    #dropout_2 = layers.Dropout(0.5)(x)\n",
    "\n",
    "    dense_2= layers.Dense(numberOfWebsites, kernel_regularizer = 'l2',activation = 'softmax', kernel_initializer = 'VarianceScaling', bias_initializer = 'zeros')(flatten_1)\n",
    "\n",
    "    model = keras.Model(inputs = input_1, outputs = dense_2)\n",
    "    return model"
   ]
  },
  {
   "cell_type": "code",
   "execution_count": 6,
   "id": "f1d39ebc-4f37-410c-b37c-c59c1c37b56a",
   "metadata": {
    "scrolled": true,
    "tags": []
   },
   "outputs": [
    {
     "name": "stdout",
     "output_type": "stream",
     "text": [
      "Model: \"model\"\n",
      "_________________________________________________________________\n",
      " Layer (type)                Output Shape              Param #   \n",
      "=================================================================\n",
      " input_1 (InputLayer)        [(None, 6000, 1)]         0         \n",
      "                                                                 \n",
      " conv1d (Conv1D)             (None, 1995, 256)         4352      \n",
      "                                                                 \n",
      " max_pooling1d (MaxPooling1D  (None, 499, 256)         0         \n",
      " )                                                               \n",
      "                                                                 \n",
      " conv1d_1 (Conv1D)           (None, 164, 128)          262272    \n",
      "                                                                 \n",
      " max_pooling1d_1 (MaxPooling  (None, 41, 128)          0         \n",
      " 1D)                                                             \n",
      "                                                                 \n",
      " conv1d_2 (Conv1D)           (None, 14, 32)            32800     \n",
      "                                                                 \n",
      " max_pooling1d_2 (MaxPooling  (None, 4, 32)            0         \n",
      " 1D)                                                             \n",
      "                                                                 \n",
      " flatten (Flatten)           (None, 128)               0         \n",
      "                                                                 \n",
      " dense (Dense)               (None, 14)                1806      \n",
      "                                                                 \n",
      "=================================================================\n",
      "Total params: 301,230\n",
      "Trainable params: 301,230\n",
      "Non-trainable params: 0\n",
      "_________________________________________________________________\n"
     ]
    }
   ],
   "source": [
    "\n",
    "model = my_model_sddec()\n",
    "\n",
    "model.summary()\n"
   ]
  },
  {
   "cell_type": "code",
   "execution_count": 7,
   "id": "f8432bd6-b7c3-40cb-aa35-a767d1f77f26",
   "metadata": {
    "scrolled": true,
    "tags": []
   },
   "outputs": [
    {
     "name": "stdout",
     "output_type": "stream",
     "text": [
      "Epoch 1/20\n",
      "37/37 [==============================] - 4s 14ms/step - loss: 2.8361 - accuracy: 0.1352 - val_loss: 2.5937 - val_accuracy: 0.1310\n",
      "Epoch 2/20\n",
      "37/37 [==============================] - 0s 8ms/step - loss: 2.2155 - accuracy: 0.2704 - val_loss: 2.1388 - val_accuracy: 0.2639\n",
      "Epoch 3/20\n",
      "37/37 [==============================] - 0s 8ms/step - loss: 1.7549 - accuracy: 0.4218 - val_loss: 1.6885 - val_accuracy: 0.5298\n",
      "Epoch 4/20\n",
      "37/37 [==============================] - 0s 8ms/step - loss: 1.3068 - accuracy: 0.6233 - val_loss: 1.4285 - val_accuracy: 0.5893\n",
      "Epoch 5/20\n",
      "37/37 [==============================] - 0s 8ms/step - loss: 1.0066 - accuracy: 0.7143 - val_loss: 1.1772 - val_accuracy: 0.6944\n",
      "Epoch 6/20\n",
      "37/37 [==============================] - 0s 8ms/step - loss: 0.7666 - accuracy: 0.7849 - val_loss: 1.0642 - val_accuracy: 0.7163\n",
      "Epoch 7/20\n",
      "37/37 [==============================] - 0s 8ms/step - loss: 0.6179 - accuracy: 0.8316 - val_loss: 0.9843 - val_accuracy: 0.7302\n",
      "Epoch 8/20\n",
      "37/37 [==============================] - 0s 8ms/step - loss: 0.5449 - accuracy: 0.8580 - val_loss: 0.8842 - val_accuracy: 0.7976\n",
      "Epoch 9/20\n",
      "37/37 [==============================] - 0s 8ms/step - loss: 0.4719 - accuracy: 0.8759 - val_loss: 0.9350 - val_accuracy: 0.7996\n",
      "Epoch 10/20\n",
      "37/37 [==============================] - 0s 8ms/step - loss: 0.3946 - accuracy: 0.9099 - val_loss: 0.8278 - val_accuracy: 0.8274\n",
      "Epoch 11/20\n",
      "37/37 [==============================] - 0s 8ms/step - loss: 0.3578 - accuracy: 0.9192 - val_loss: 0.9399 - val_accuracy: 0.8155\n",
      "Epoch 12/20\n",
      "37/37 [==============================] - 0s 8ms/step - loss: 0.3288 - accuracy: 0.9226 - val_loss: 0.7821 - val_accuracy: 0.8552\n",
      "Epoch 13/20\n",
      "37/37 [==============================] - 0s 8ms/step - loss: 0.3475 - accuracy: 0.9116 - val_loss: 0.9748 - val_accuracy: 0.7877\n",
      "Epoch 14/20\n",
      "37/37 [==============================] - 0s 9ms/step - loss: 0.3225 - accuracy: 0.9243 - val_loss: 0.7777 - val_accuracy: 0.8532\n",
      "Epoch 15/20\n",
      "37/37 [==============================] - 0s 9ms/step - loss: 0.2739 - accuracy: 0.9337 - val_loss: 0.7578 - val_accuracy: 0.8730\n",
      "Epoch 16/20\n",
      "37/37 [==============================] - 0s 8ms/step - loss: 0.2289 - accuracy: 0.9498 - val_loss: 0.8169 - val_accuracy: 0.8433\n",
      "Epoch 17/20\n",
      "37/37 [==============================] - 0s 8ms/step - loss: 0.2068 - accuracy: 0.9609 - val_loss: 0.9234 - val_accuracy: 0.8254\n",
      "Epoch 18/20\n",
      "37/37 [==============================] - 0s 8ms/step - loss: 0.1821 - accuracy: 0.9677 - val_loss: 0.7816 - val_accuracy: 0.8810\n",
      "Epoch 19/20\n",
      "37/37 [==============================] - 0s 8ms/step - loss: 0.1610 - accuracy: 0.9685 - val_loss: 0.8644 - val_accuracy: 0.8512\n",
      "Epoch 20/20\n",
      "37/37 [==============================] - 0s 8ms/step - loss: 0.1889 - accuracy: 0.9532 - val_loss: 0.8184 - val_accuracy: 0.8829\n"
     ]
    }
   ],
   "source": [
    "model.compile(\n",
    "\tloss=keras.losses.SparseCategoricalCrossentropy(),\n",
    "\toptimizer=keras.optimizers.Adam(),\n",
    "\tmetrics=[\"accuracy\"]\n",
    ")\n",
    "\n",
    "history = model.fit(trainX, trainY,validation_split = 0.3, batch_size=32, epochs=20, verbose=1)"
   ]
  },
  {
   "cell_type": "code",
   "execution_count": 8,
   "id": "75b5b6d5-7cc7-45d5-8f4a-336b558b77a6",
   "metadata": {},
   "outputs": [],
   "source": [
    "model.save('TrainedModel/trainedModel.h5',save_format='h5')"
   ]
  },
  {
   "cell_type": "code",
   "execution_count": 11,
   "id": "adfa6ddd-9e0c-47f3-8317-77f5f804ef27",
   "metadata": {},
   "outputs": [
    {
     "data": {
      "image/png": "[encoded data removed]",
      "text/plain": [
       "<Figure size 720x360 with 1 Axes>"
      ]
     },
     "metadata": {
      "needs_background": "light"
     },
     "output_type": "display_data"
    }
   ],
   "source": [
    "\n",
    "fig = plt.figure(figsize=(10,5))\n",
    "\n",
    "\n",
    "#plotting\n",
    "\n",
    "plt.locator_params(axis=\"x\", nbins=20)\n",
    "plt.locator_params(axis=\"y\", nbins=10)\n",
    "\n",
    "plt.plot(history.history['accuracy'])\n",
    "plt.plot(history.history['val_accuracy'])\n",
    "plt.title('model accuracy')\n",
    "plt.ylabel('accuracy')\n",
    "plt.xlabel('epoch')\n",
    "plt.legend(['training','validation'], loc='upper left')\n",
    "fig.savefig('plot.png',dpi=200)"
   ]
  },
  {
   "cell_type": "code",
   "execution_count": 12,
   "id": "03de73d2-0b3c-4f66-8bdd-ca6a8bb9d498",
   "metadata": {},
   "outputs": [
    {
     "data": {
      "image/png": "[encoded data removed]",
      "text/plain": [
       "<Figure size 720x360 with 1 Axes>"
      ]
     },
     "metadata": {
      "needs_background": "light"
     },
     "output_type": "display_data"
    }
   ],
   "source": [
    "\n",
    "fig = plt.figure(figsize=(10,5))\n",
    "\n",
    "\n",
    "#plotting\n",
    "\n",
    "plt.locator_params(axis=\"x\", nbins=20)\n",
    "plt.locator_params(axis=\"y\", nbins=10)\n",
    "\n",
    "plt.plot(history.history['loss'])\n",
    "plt.plot(history.history['val_loss'])\n",
    "plt.title('model loss')\n",
    "plt.ylabel('loss')\n",
    "plt.xlabel('epoch')\n",
    "plt.legend(['training','validation'], loc='upper left')\n",
    "fig.savefig('plot.png',dpi=200)"
   ]
  },
  {
   "cell_type": "code",
   "execution_count": null,
   "id": "1c57a817-9443-481d-a2e3-f50dbb486f86",
   "metadata": {},
   "outputs": [],
   "source": []
  }
 ],
 "metadata": {
  "kernelspec": {
   "display_name": "env",
   "language": "python",
   "name": "env"
  },
  "language_info": {
   "codemirror_mode": {
    "name": "ipython",
    "version": 3
   },
   "file_extension": ".py",
   "mimetype": "text/x-python",
   "name": "python",
   "nbconvert_exporter": "python",
   "pygments_lexer": "ipython3",
   "version": "3.8.10"
  }
 },
 "nbformat": 4,
 "nbformat_minor": 5
}
