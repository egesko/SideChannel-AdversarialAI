{
 "cells": [
  {
   "cell_type": "code",
   "execution_count": 1,
   "id": "18d12369-f02b-4b9e-b0d2-fbf40f4fadc1",
   "metadata": {},
   "outputs": [],
   "source": [
    "import os\n",
    "os.environ['TF_CPP_MIN_LOG_LEVEL'] = '2'\n",
    "import tensorflow as tf\n",
    "from tensorflow import keras\n",
    "from tensorflow.keras import layers\n",
    "from tensorflow.keras.datasets import cifar10\n",
    "from csv import writer\n",
    "import pandas as pd\n",
    "\n",
    "import numpy as np\n",
    "from matplotlib import pyplot as plt\n",
    "from matplotlib import ticker as ticker"
   ]
  },
  {
   "cell_type": "code",
   "execution_count": 2,
   "id": "430f180e-bcac-4aa1-a04a-710bb7e05f36",
   "metadata": {},
   "outputs": [],
   "source": [
    "physical_devices = tf.config.list_physical_devices('GPU')\n",
    "tf.config.experimental.set_memory_growth(physical_devices[0],True)"
   ]
  },
  {
   "cell_type": "code",
   "execution_count": 3,
   "id": "94577011-5e80-441d-a2c2-70571fa02a29",
   "metadata": {},
   "outputs": [],
   "source": [
    "train_X = pd.read_csv('DataSet/trainX13.csv', header=None)\n",
    "train_Y = pd.read_csv('DataSet/trainY13.csv', header=None)\n",
    "\n",
    "trainY = train_Y.to_numpy()\n",
    "trainX = train_X.to_numpy()\n",
    "trainX = np.expand_dims(trainX,axis=2)"
   ]
  },
  {
   "cell_type": "code",
   "execution_count": 4,
   "id": "76cc9df3-9492-441f-bc37-66b0208cccc3",
   "metadata": {},
   "outputs": [],
   "source": [
    "minimum = np.amin(trainX)\n",
    "maximum = np.amax(trainX)\n",
    "\n",
    "trainX = (trainX-minimum)/(maximum-minimum)"
   ]
  },
  {
   "cell_type": "code",
   "execution_count": 11,
   "id": "665ff2db-76e6-42ba-9616-bae2d69044a7",
   "metadata": {},
   "outputs": [],
   "source": [
    "numberOfWebsites = 14\n",
    "def my_model_sddec():\n",
    "\n",
    "    input_1 = keras.Input(shape = (6000,1))\n",
    "\n",
    "    conv1d_1 = layers.Conv1D(256,16,strides=3,padding='valid',activation='relu',use_bias=True,kernel_initializer='VarianceScaling',bias_initializer = 'Zeros')(input_1)#possibly update kernel_initializer\n",
    "    max_pooling1d_1 = layers.MaxPooling1D(pool_size = 4,strides = 4, padding = 'same')(conv1d_1)\n",
    "\n",
    "    conv1d_2 = layers.Conv1D(128,8,strides=3,padding='valid',activation='relu',use_bias=True,kernel_initializer='VarianceScaling',bias_initializer = 'Zeros')(max_pooling1d_1)#possibly update kernel_initializer\n",
    "    max_pooling1d_2 = layers.MaxPooling1D(pool_size = 4,strides = 4, padding = 'same')(conv1d_2)\n",
    "\n",
    "    conv1d_3 = layers.Conv1D(32,8,strides=3,padding='same',activation='relu',use_bias=True,kernel_initializer='VarianceScaling',bias_initializer = 'Zeros')(max_pooling1d_2)#possibly update kernel_initializer\n",
    "    max_pooling1d_2 = layers.MaxPooling1D(pool_size = 4,strides = 4, padding = 'same')(conv1d_3)\n",
    "\n",
    "    # conv1d_1 = layers.Conv1D(256,16,strides=3,padding='valid',activation='relu',use_bias=True,kernel_initializer='VarianceScaling',bias_initializer = 'Zeros')(input_1)#possibly update kernel_initializer\n",
    "    \n",
    "    # max_pooling1d_1 = layers.MaxPooling1D(pool_size = 4,strides = 4, padding = 'same')(conv1d_1)\n",
    "    \n",
    "    # conv1d_2 = layers.Conv1D(32,8,strides=3,padding='same',activation='relu',use_bias=True,kernel_initializer='VarianceScaling',bias_initializer = 'Zeros')(max_pooling1d_1)#possibly update kernel_initializer\n",
    "\n",
    "    # max_pooling1d_2 = layers.MaxPooling1D(pool_size = 4,strides = 4, padding = 'same')(conv1d_2)\n",
    "\n",
    "    #lstm_1 = layers.LSTM(32,activation='tanh',recurrent_activation='hard_sigmoid',use_bias=True,kernel_initializer='VarianceScaling',recurrent_initializer = 'orthogonal',bias_initializer='Zeros', return_sequences = True)(max_pooling1d_2) #Variance Scaling\n",
    "\n",
    "    flatten_1 = layers.Flatten()(max_pooling1d_2)\n",
    "    \n",
    "    #x = layers.Dense(200,activation = 'softmax')(flatten_1)\n",
    "\n",
    "    #dropout_1 = layers.Dropout(0.3)(flatten_1)\n",
    "\n",
    "    #dense_1 = layers.Dense(300,activation = 'relu')(dropout_1)\n",
    "\n",
    "    #dropout_2 = layers.Dropout(0.5)(x)\n",
    "\n",
    "    dense_2= layers.Dense(numberOfWebsites, kernel_regularizer = 'l2',activation = 'softmax', kernel_initializer = 'VarianceScaling', bias_initializer = 'zeros')(flatten_1)\n",
    "\n",
    "    model = keras.Model(inputs = input_1, outputs = dense_2)\n",
    "    return model"
   ]
  },
  {
   "cell_type": "code",
   "execution_count": 17,
   "id": "f1d39ebc-4f37-410c-b37c-c59c1c37b56a",
   "metadata": {
    "scrolled": true,
    "tags": []
   },
   "outputs": [
    {
     "name": "stdout",
     "output_type": "stream",
     "text": [
      "Model: \"model_4\"\n",
      "_________________________________________________________________\n",
      " Layer (type)                Output Shape              Param #   \n",
      "=================================================================\n",
      " input_5 (InputLayer)        [(None, 6000, 1)]         0         \n",
      "                                                                 \n",
      " conv1d_12 (Conv1D)          (None, 1995, 256)         4352      \n",
      "                                                                 \n",
      " max_pooling1d_12 (MaxPoolin  (None, 499, 256)         0         \n",
      " g1D)                                                            \n",
      "                                                                 \n",
      " conv1d_13 (Conv1D)          (None, 164, 128)          262272    \n",
      "                                                                 \n",
      " max_pooling1d_13 (MaxPoolin  (None, 41, 128)          0         \n",
      " g1D)                                                            \n",
      "                                                                 \n",
      " conv1d_14 (Conv1D)          (None, 14, 32)            32800     \n",
      "                                                                 \n",
      " max_pooling1d_14 (MaxPoolin  (None, 4, 32)            0         \n",
      " g1D)                                                            \n",
      "                                                                 \n",
      " flatten_4 (Flatten)         (None, 128)               0         \n",
      "                                                                 \n",
      " dense_6 (Dense)             (None, 14)                1806      \n",
      "                                                                 \n",
      "=================================================================\n",
      "Total params: 301,230\n",
      "Trainable params: 301,230\n",
      "Non-trainable params: 0\n",
      "_________________________________________________________________\n"
     ]
    }
   ],
   "source": [
    "\n",
    "model = my_model_sddec()\n",
    "\n",
    "model.summary()\n"
   ]
  },
  {
   "cell_type": "code",
   "execution_count": 30,
   "id": "f8432bd6-b7c3-40cb-aa35-a767d1f77f26",
   "metadata": {
    "scrolled": true,
    "tags": []
   },
   "outputs": [
    {
     "name": "stdout",
     "output_type": "stream",
     "text": [
      "Epoch 1/20\n",
      "37/37 [==============================] - 1s 13ms/step - loss: 0.0244 - accuracy: 0.9966 - val_loss: 0.8456 - val_accuracy: 0.9107\n",
      "Epoch 2/20\n",
      "37/37 [==============================] - 0s 7ms/step - loss: 0.0155 - accuracy: 1.0000 - val_loss: 0.8435 - val_accuracy: 0.9147\n",
      "Epoch 3/20\n",
      "37/37 [==============================] - 0s 7ms/step - loss: 0.0144 - accuracy: 1.0000 - val_loss: 0.8904 - val_accuracy: 0.9187\n",
      "Epoch 4/20\n",
      "37/37 [==============================] - 0s 7ms/step - loss: 0.0230 - accuracy: 0.9974 - val_loss: 0.7919 - val_accuracy: 0.9127\n",
      "Epoch 5/20\n",
      "37/37 [==============================] - 0s 7ms/step - loss: 0.0166 - accuracy: 1.0000 - val_loss: 0.8307 - val_accuracy: 0.9107\n",
      "Epoch 6/20\n",
      "37/37 [==============================] - 0s 7ms/step - loss: 0.0134 - accuracy: 1.0000 - val_loss: 0.7653 - val_accuracy: 0.9147\n",
      "Epoch 7/20\n",
      "37/37 [==============================] - 0s 7ms/step - loss: 0.0123 - accuracy: 1.0000 - val_loss: 0.7520 - val_accuracy: 0.9147\n",
      "Epoch 8/20\n",
      "37/37 [==============================] - 0s 7ms/step - loss: 0.0117 - accuracy: 1.0000 - val_loss: 0.7575 - val_accuracy: 0.9147\n",
      "Epoch 9/20\n",
      "37/37 [==============================] - 0s 7ms/step - loss: 0.0112 - accuracy: 1.0000 - val_loss: 0.7370 - val_accuracy: 0.9127\n",
      "Epoch 10/20\n",
      "37/37 [==============================] - 0s 7ms/step - loss: 0.0108 - accuracy: 1.0000 - val_loss: 0.7506 - val_accuracy: 0.9147\n",
      "Epoch 11/20\n",
      "37/37 [==============================] - 0s 7ms/step - loss: 0.0104 - accuracy: 1.0000 - val_loss: 0.7249 - val_accuracy: 0.9167\n",
      "Epoch 12/20\n",
      "37/37 [==============================] - 0s 7ms/step - loss: 0.0101 - accuracy: 1.0000 - val_loss: 0.7610 - val_accuracy: 0.9187\n",
      "Epoch 13/20\n",
      "37/37 [==============================] - 0s 7ms/step - loss: 0.0157 - accuracy: 0.9991 - val_loss: 0.9112 - val_accuracy: 0.9087\n",
      "Epoch 14/20\n",
      "37/37 [==============================] - 0s 7ms/step - loss: 0.0950 - accuracy: 0.9753 - val_loss: 0.8119 - val_accuracy: 0.9167\n",
      "Epoch 15/20\n",
      "37/37 [==============================] - 0s 7ms/step - loss: 0.0289 - accuracy: 0.9974 - val_loss: 0.9009 - val_accuracy: 0.9067\n",
      "Epoch 16/20\n",
      "37/37 [==============================] - 0s 7ms/step - loss: 0.0161 - accuracy: 1.0000 - val_loss: 0.8711 - val_accuracy: 0.9147\n",
      "Epoch 17/20\n",
      "37/37 [==============================] - 0s 7ms/step - loss: 0.0142 - accuracy: 1.0000 - val_loss: 0.8468 - val_accuracy: 0.9127\n",
      "Epoch 18/20\n",
      "37/37 [==============================] - 0s 7ms/step - loss: 0.0134 - accuracy: 1.0000 - val_loss: 0.8285 - val_accuracy: 0.9127\n",
      "Epoch 19/20\n",
      "37/37 [==============================] - 0s 7ms/step - loss: 0.0128 - accuracy: 1.0000 - val_loss: 0.8164 - val_accuracy: 0.9127\n",
      "Epoch 20/20\n",
      "37/37 [==============================] - 0s 7ms/step - loss: 0.0124 - accuracy: 1.0000 - val_loss: 0.8200 - val_accuracy: 0.9127\n"
     ]
    }
   ],
   "source": [
    "model.compile(\n",
    "\tloss=keras.losses.SparseCategoricalCrossentropy(),\n",
    "\toptimizer=keras.optimizers.Adam(),\n",
    "\tmetrics=[\"accuracy\"]\n",
    ")\n",
    "\n",
    "history = model.fit(trainX, trainY,validation_split = 0.3, batch_size=32, epochs=20, verbose=1)"
   ]
  },
  {
   "cell_type": "code",
   "execution_count": 31,
   "id": "75b5b6d5-7cc7-45d5-8f4a-336b558b77a6",
   "metadata": {},
   "outputs": [],
   "source": [
    "model.save('TrainedModel/trainedModel.h5',save_format='h5')"
   ]
  },
  {
   "cell_type": "code",
   "execution_count": 32,
   "id": "adfa6ddd-9e0c-47f3-8317-77f5f804ef27",
   "metadata": {},
   "outputs": [
    {
     "data": {
      "image/png": "[encoded data removed]",
      "text/plain": [
       "<Figure size 1080x360 with 1 Axes>"
      ]
     },
     "metadata": {
      "needs_background": "light"
     },
     "output_type": "display_data"
    }
   ],
   "source": [
    "\n",
    "fig = plt.figure(figsize=(15,5))\n",
    "\n",
    "\n",
    "#plotting\n",
    "\n",
    "plt.locator_params(axis=\"x\", nbins=20)\n",
    "plt.locator_params(axis=\"y\", nbins=10)\n",
    "\n",
    "plt.plot(history.history['accuracy'])\n",
    "plt.plot(history.history['val_accuracy'])\n",
    "plt.title('model accuracy')\n",
    "plt.ylabel('accuracy')\n",
    "plt.xlabel('epoch')\n",
    "plt.legend(['training','validation'], loc='upper left')\n",
    "fig.savefig('plot.png',dpi=200)"
   ]
  },
  {
   "cell_type": "code",
   "execution_count": 29,
   "id": "03de73d2-0b3c-4f66-8bdd-ca6a8bb9d498",
   "metadata": {},
   "outputs": [
    {
     "data": {
      "image/png": "[encoded data removed]",
      "text/plain": [
       "<Figure size 1080x360 with 1 Axes>"
      ]
     },
     "metadata": {
      "needs_background": "light"
     },
     "output_type": "display_data"
    }
   ],
   "source": [
    "\n",
    "fig = plt.figure(figsize=(15,5))\n",
    "\n",
    "\n",
    "#plotting\n",
    "\n",
    "plt.locator_params(axis=\"x\", nbins=20)\n",
    "plt.locator_params(axis=\"y\", nbins=10)\n",
    "\n",
    "plt.plot(history.history['loss'])\n",
    "plt.plot(history.history['val_loss'])\n",
    "plt.title('model loss')\n",
    "plt.ylabel('loss')\n",
    "plt.xlabel('epoch')\n",
    "plt.legend(['training','validation'], loc='upper left')\n",
    "fig.savefig('plot.png',dpi=200)"
   ]
  },
  {
   "cell_type": "code",
   "execution_count": null,
   "id": "1c57a817-9443-481d-a2e3-f50dbb486f86",
   "metadata": {},
   "outputs": [],
   "source": []
  }
 ],
 "metadata": {
  "kernelspec": {
   "display_name": "env",
   "language": "python",
   "name": "env"
  },
  "language_info": {
   "codemirror_mode": {
    "name": "ipython",
    "version": 3
   },
   "file_extension": ".py",
   "mimetype": "text/x-python",
   "name": "python",
   "nbconvert_exporter": "python",
   "pygments_lexer": "ipython3",
   "version": "3.8.10"
  }
 },
 "nbformat": 4,
 "nbformat_minor": 5
}
