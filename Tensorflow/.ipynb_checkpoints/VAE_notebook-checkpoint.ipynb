{
 "cells": [
  {
   "cell_type": "code",
   "execution_count": 154,
   "metadata": {},
   "outputs": [],
   "source": [
    "import numpy as np\n",
    "import tensorflow as tf\n",
    "from tensorflow import keras\n",
    "from tensorflow.keras import layers\n",
    "from keras import backend as K\n",
    "import matplotlib.pyplot as plt\n",
    "import pandas as pd\n",
    "import datetime"
   ]
  },
  {
   "cell_type": "markdown",
   "metadata": {},
   "source": [
    "# Define Sampling layer as a subclass of keras.layers.Layer\n",
    "## Sampling layer: Layer that samples a random point in latent space from a distribution with a mean and variance"
   ]
  },
  {
   "cell_type": "code",
   "execution_count": 155,
   "metadata": {},
   "outputs": [],
   "source": [
    "\n",
    "class Sampling(layers.Layer):\n",
    "    \"\"\"Uses (z_mean, z_log_var) to sample z, the vector encoding a digit.\"\"\"\n",
    "\n",
    "    def call(self, inputs):\n",
    "        z_mean, z_log_var = inputs\n",
    "        batch = tf.shape(z_mean)[0]\n",
    "        dim = tf.shape(z_mean)[1]\n",
    "        epsilon = tf.keras.backend.random_normal(shape=(batch, dim))\n",
    "        return z_mean + tf.exp(0.5 * z_log_var) * epsilon"
   ]
  },
  {
   "cell_type": "markdown",
   "metadata": {},
   "source": [
    "## Define latent space dimension"
   ]
  },
  {
   "cell_type": "code",
   "execution_count": 156,
   "metadata": {},
   "outputs": [],
   "source": [
    "latent_dim = 2"
   ]
  },
  {
   "cell_type": "markdown",
   "metadata": {},
   "source": [
    "# Encoder"
   ]
  },
  {
   "cell_type": "code",
   "execution_count": 157,
   "metadata": {
    "tags": [
     "TBD"
    ]
   },
   "outputs": [
    {
     "name": "stdout",
     "output_type": "stream",
     "text": [
      "Model: \"encoder\"\n",
      "__________________________________________________________________________________________________\n",
      " Layer (type)                   Output Shape         Param #     Connected to                     \n",
      "==================================================================================================\n",
      " input_9 (InputLayer)           [(None, 6000, 1)]    0           []                               \n",
      "                                                                                                  \n",
      " conv1d_12 (Conv1D)             (None, 3000, 256)    4352        ['input_9[0][0]']                \n",
      "                                                                                                  \n",
      " conv1d_13 (Conv1D)             (None, 1500, 128)    262272      ['conv1d_12[0][0]']              \n",
      "                                                                                                  \n",
      " conv1d_14 (Conv1D)             (None, 750, 32)      32800       ['conv1d_13[0][0]']              \n",
      "                                                                                                  \n",
      " flatten_4 (Flatten)            (None, 24000)        0           ['conv1d_14[0][0]']              \n",
      "                                                                                                  \n",
      " dense_8 (Dense)                (None, 16)           384016      ['flatten_4[0][0]']              \n",
      "                                                                                                  \n",
      " z_mean (Dense)                 (None, 2)            34          ['dense_8[0][0]']                \n",
      "                                                                                                  \n",
      " z_log_var (Dense)              (None, 2)            34          ['dense_8[0][0]']                \n",
      "                                                                                                  \n",
      " sampling_4 (Sampling)          (None, 2)            0           ['z_mean[0][0]',                 \n",
      "                                                                  'z_log_var[0][0]']              \n",
      "                                                                                                  \n",
      "==================================================================================================\n",
      "Total params: 683,508\n",
      "Trainable params: 683,508\n",
      "Non-trainable params: 0\n",
      "__________________________________________________________________________________________________\n"
     ]
    }
   ],
   "source": [
    "\n",
    "encoder_inputs = keras.Input(shape=(6000,1))\n",
    "\n",
    "x = layers.Conv1D(256,16,strides=2,padding='same',activation='relu',use_bias=True,kernel_initializer='VarianceScaling',bias_initializer = 'Zeros')(encoder_inputs)#possibly update kernel_initializer\n",
    "#x = layers.MaxPooling1D(pool_size = 4,strides = 4, padding = 'same')(x)\n",
    "\n",
    "x = layers.Conv1D(128,8,strides=2,padding='same',activation='relu',use_bias=True,kernel_initializer='VarianceScaling',bias_initializer = 'Zeros')(x)#possibly update kernel_initializer\n",
    "#x = layers.MaxPooling1D(pool_size = 4,strides = 4, padding = 'same')(x)\n",
    "\n",
    "x = layers.Conv1D(32,8,strides=2,padding='same',activation='relu',use_bias=True,kernel_initializer='VarianceScaling',bias_initializer = 'Zeros')(x)#possibly update kernel_initializer\n",
    "#x = layers.MaxPooling1D(pool_size = 4,strides = 4, padding = 'same')(x)\n",
    "\n",
    "shape_before_flattening = K.int_shape(x)\n",
    "\n",
    "flatten_1 = layers.Flatten()(x)\n",
    "x = layers.Dense(16 , activation=\"relu\")(flatten_1)\n",
    "\n",
    "z_mean = layers.Dense(latent_dim, name=\"z_mean\",kernel_initializer='Zeros',bias_initializer = 'Zeros')(x)\n",
    "z_log_var = layers.Dense(latent_dim, name=\"z_log_var\",kernel_initializer='Zeros',bias_initializer = 'Zeros')(x)\n",
    "z = Sampling()([z_mean, z_log_var])\n",
    "encoder = keras.Model(encoder_inputs, [z_mean, z_log_var, z], name=\"encoder\")\n",
    "encoder.summary()"
   ]
  },
  {
   "cell_type": "markdown",
   "metadata": {},
   "source": [
    "# Decoder"
   ]
  },
  {
   "cell_type": "code",
   "execution_count": 158,
   "metadata": {
    "tags": [
     "TBD"
    ]
   },
   "outputs": [
    {
     "name": "stdout",
     "output_type": "stream",
     "text": [
      "Model: \"decoder\"\n",
      "_________________________________________________________________\n",
      " Layer (type)                Output Shape              Param #   \n",
      "=================================================================\n",
      " input_10 (InputLayer)       [(None, 2)]               0         \n",
      "                                                                 \n",
      " dense_9 (Dense)             (None, 24000)             72000     \n",
      "                                                                 \n",
      " reshape_4 (Reshape)         (None, 750, 32)           0         \n",
      "                                                                 \n",
      " conv1d_transpose_16 (Conv1D  (None, 1500, 32)         8224      \n",
      " Transpose)                                                      \n",
      "                                                                 \n",
      " conv1d_transpose_17 (Conv1D  (None, 3000, 128)        32896     \n",
      " Transpose)                                                      \n",
      "                                                                 \n",
      " conv1d_transpose_18 (Conv1D  (None, 6000, 256)        524544    \n",
      " Transpose)                                                      \n",
      "                                                                 \n",
      " conv1d_transpose_19 (Conv1D  (None, 6000, 1)          4097      \n",
      " Transpose)                                                      \n",
      "                                                                 \n",
      "=================================================================\n",
      "Total params: 641,761\n",
      "Trainable params: 641,761\n",
      "Non-trainable params: 0\n",
      "_________________________________________________________________\n"
     ]
    }
   ],
   "source": [
    "\n",
    "#DECODER\n",
    "latent_inputs = keras.Input(shape=(latent_dim,))\n",
    "\n",
    "# x = layers.Dense(1500, activation=\"relu\")(latent_inputs)\n",
    "\n",
    "#x = layers.Dense(1500, activation=\"relu\")(latent_inputs)\n",
    "\n",
    "x = layers.Dense(np.prod(shape_before_flattening[1:]), activation=\"relu\")(latent_inputs)\n",
    "x = layers.Reshape(shape_before_flattening[1:])(x)\n",
    "\n",
    "x = layers.Conv1DTranspose(32, 8, activation=\"relu\", strides=2, padding=\"same\")(x)\n",
    "x = layers.Conv1DTranspose(128, 8, activation=\"relu\", strides=2, padding=\"same\")(x)\n",
    "x = layers.Conv1DTranspose(256, 16, activation=\"relu\", strides=2, padding=\"same\")(x)\n",
    "\n",
    "\n",
    "decoder_outputs = layers.Conv1DTranspose(1, 16, padding=\"same\")(x)\n",
    "decoder = keras.Model(latent_inputs, decoder_outputs, name=\"decoder\")\n",
    "decoder.summary()"
   ]
  },
  {
   "cell_type": "markdown",
   "metadata": {},
   "source": [
    "# Defining subclass VAE\n",
    "## VAE is a subclass of keras.Model class"
   ]
  },
  {
   "cell_type": "code",
   "execution_count": 159,
   "metadata": {
    "tags": [
     "TBD"
    ]
   },
   "outputs": [],
   "source": [
    "\n",
    "class VAE(keras.Model):\n",
    "    def __init__(self, encoder, decoder, **kwargs):\n",
    "        super(VAE, self).__init__(**kwargs)\n",
    "        self.encoder = encoder\n",
    "        self.decoder = decoder\n",
    "        self.total_loss_tracker = keras.metrics.Mean(name=\"total_loss\")\n",
    "        self.reconstruction_loss_tracker = keras.metrics.Mean(\n",
    "            name=\"reconstruction_loss\"\n",
    "        )\n",
    "        self.kl_loss_tracker = keras.metrics.Mean(name=\"kl_loss\")\n",
    "\n",
    "    @property\n",
    "    def metrics(self):\n",
    "        return [\n",
    "            self.total_loss_tracker,\n",
    "            self.reconstruction_loss_tracker,\n",
    "            self.kl_loss_tracker,\n",
    "        ]\n",
    "\n",
    "    def train_step(self, data):\n",
    "        with tf.GradientTape() as tape:\n",
    "            z_mean, z_log_var, z = self.encoder(data)\n",
    "            reconstruction = self.decoder(z)\n",
    "            reconstruction_loss = tf.reduce_mean(\n",
    "                tf.reduce_sum(\n",
    "                    keras.losses.binary_crossentropy(data, reconstruction),axis=(1)\n",
    "                )\n",
    "            )\n",
    "            kl_loss = -0.5 * (1 + z_log_var - tf.square(z_mean) - tf.exp(z_log_var))\n",
    "            kl_loss = tf.reduce_mean(tf.reduce_sum(kl_loss, axis=0))\n",
    "            total_loss = reconstruction_loss + kl_loss\n",
    "            #total_loss = reconstruction_loss #ABSOLUTELY CHANGE!\n",
    "        grads = tape.gradient(total_loss, self.trainable_weights)\n",
    "        self.optimizer.apply_gradients(zip(grads, self.trainable_weights))\n",
    "        self.total_loss_tracker.update_state(total_loss)\n",
    "        self.reconstruction_loss_tracker.update_state(reconstruction_loss)\n",
    "        self.kl_loss_tracker.update_state(kl_loss)\n",
    "        return {\n",
    "            \"loss\": self.total_loss_tracker.result(),\n",
    "            \"reconstruction_loss\": self.reconstruction_loss_tracker.result(),\n",
    "            \"kl_loss\": self.kl_loss_tracker.result(),\n",
    "        }"
   ]
  },
  {
   "cell_type": "markdown",
   "metadata": {},
   "source": [
    "# Load dataset\n",
    "## And convert it to numpy array"
   ]
  },
  {
   "cell_type": "code",
   "execution_count": 160,
   "metadata": {},
   "outputs": [],
   "source": [
    "\n",
    "train_X = pd.read_csv('/home/ege/Repo/SideChannel-AdversarialAI/Tensorflow/DataSet/trainX13.csv', header=None)\n",
    "train_Y = pd.read_csv('/home/ege/Repo/SideChannel-AdversarialAI/Tensorflow/DataSet/trainY13.csv', header=None)\n",
    "\n",
    "trainY = train_Y.to_numpy()\n",
    "trainX = train_X.to_numpy()\n",
    "trainX = np.expand_dims(trainX,axis=2)"
   ]
  },
  {
   "cell_type": "markdown",
   "metadata": {
    "tags": []
   },
   "source": [
    "# Normalize dataset"
   ]
  },
  {
   "cell_type": "code",
   "execution_count": 185,
   "metadata": {},
   "outputs": [],
   "source": [
    "minimum = np.amin(trainX)\n",
    "maximum = np.amax(trainX)\n",
    "\n",
    "trainX = (trainX-minimum)/(maximum-minimum)\n",
    "\n",
    "classToCut = 6\n",
    "\n",
    "trainXCUT = trainX[classToCut::14]\n",
    "trainYCUT = trainY[classToCut::14]"
   ]
  },
  {
   "cell_type": "markdown",
   "metadata": {
    "tags": []
   },
   "source": [
    "# Train model"
   ]
  },
  {
   "cell_type": "code",
   "execution_count": 186,
   "metadata": {
    "scrolled": true,
    "tags": [
     "TBD"
    ]
   },
   "outputs": [
    {
     "name": "stdout",
     "output_type": "stream",
     "text": [
      "Epoch 1/25\n",
      "4/4 [==============================] - 3s 34ms/step - loss: 1304.4173 - reconstruction_loss: 1279.1912 - kl_loss: 5.1053\n",
      "Epoch 2/25\n",
      "4/4 [==============================] - 0s 31ms/step - loss: 1307.3676 - reconstruction_loss: 1287.2382 - kl_loss: 4.1569\n",
      "Epoch 3/25\n",
      "4/4 [==============================] - 0s 31ms/step - loss: 1303.0650 - reconstruction_loss: 1281.3887 - kl_loss: 3.3700\n",
      "Epoch 4/25\n",
      "4/4 [==============================] - 0s 31ms/step - loss: 1282.5999 - reconstruction_loss: 1284.2971 - kl_loss: 3.4335\n",
      "Epoch 5/25\n",
      "4/4 [==============================] - 0s 31ms/step - loss: 1280.1322 - reconstruction_loss: 1284.5995 - kl_loss: 3.8305\n",
      "Epoch 6/25\n",
      "4/4 [==============================] - 0s 31ms/step - loss: 1266.3373 - reconstruction_loss: 1292.5684 - kl_loss: 4.6636\n",
      "Epoch 7/25\n",
      "4/4 [==============================] - 0s 31ms/step - loss: 1273.7571 - reconstruction_loss: 1287.1609 - kl_loss: 5.0138\n",
      "Epoch 8/25\n",
      "4/4 [==============================] - 0s 31ms/step - loss: 1290.7592 - reconstruction_loss: 1281.1841 - kl_loss: 5.2398\n",
      "Epoch 9/25\n",
      "4/4 [==============================] - 0s 31ms/step - loss: 1287.8073 - reconstruction_loss: 1280.0018 - kl_loss: 5.2504\n",
      "Epoch 10/25\n",
      "4/4 [==============================] - 0s 31ms/step - loss: 1285.4464 - reconstruction_loss: 1279.6382 - kl_loss: 5.0753\n",
      "Epoch 11/25\n",
      "4/4 [==============================] - 0s 31ms/step - loss: 1289.0087 - reconstruction_loss: 1279.8846 - kl_loss: 5.0372\n",
      "Epoch 12/25\n",
      "4/4 [==============================] - 0s 31ms/step - loss: 1273.0262 - reconstruction_loss: 1279.9686 - kl_loss: 4.8910\n",
      "Epoch 13/25\n",
      "4/4 [==============================] - 0s 31ms/step - loss: 1294.8284 - reconstruction_loss: 1280.4972 - kl_loss: 4.6852\n",
      "Epoch 14/25\n",
      "4/4 [==============================] - 0s 31ms/step - loss: 1309.1153 - reconstruction_loss: 1275.6843 - kl_loss: 4.6272\n",
      "Epoch 15/25\n",
      "4/4 [==============================] - 0s 31ms/step - loss: 1291.9359 - reconstruction_loss: 1278.3057 - kl_loss: 4.4049\n",
      "Epoch 16/25\n",
      "4/4 [==============================] - 0s 31ms/step - loss: 1296.2188 - reconstruction_loss: 1275.4913 - kl_loss: 4.2223\n",
      "Epoch 17/25\n",
      "4/4 [==============================] - 0s 31ms/step - loss: 1276.0547 - reconstruction_loss: 1284.0718 - kl_loss: 4.0858\n",
      "Epoch 18/25\n",
      "4/4 [==============================] - 0s 31ms/step - loss: 1283.6020 - reconstruction_loss: 1284.9640 - kl_loss: 4.1185\n",
      "Epoch 19/25\n",
      "4/4 [==============================] - 0s 31ms/step - loss: 1264.2548 - reconstruction_loss: 1280.0417 - kl_loss: 4.1832\n",
      "Epoch 20/25\n",
      "4/4 [==============================] - 0s 31ms/step - loss: 1278.6893 - reconstruction_loss: 1282.1409 - kl_loss: 4.2706\n",
      "Epoch 21/25\n",
      "4/4 [==============================] - 0s 31ms/step - loss: 1270.2747 - reconstruction_loss: 1286.5984 - kl_loss: 4.5361\n",
      "Epoch 22/25\n",
      "4/4 [==============================] - 0s 32ms/step - loss: 1271.2611 - reconstruction_loss: 1281.9453 - kl_loss: 5.4458\n",
      "Epoch 23/25\n",
      "4/4 [==============================] - 0s 31ms/step - loss: 1280.5654 - reconstruction_loss: 1276.9146 - kl_loss: 5.3793\n",
      "Epoch 24/25\n",
      "4/4 [==============================] - 0s 31ms/step - loss: 1289.1874 - reconstruction_loss: 1279.5341 - kl_loss: 4.4656\n",
      "Epoch 25/25\n",
      "4/4 [==============================] - 0s 31ms/step - loss: 1289.8257 - reconstruction_loss: 1282.3271 - kl_loss: 4.0410\n"
     ]
    }
   ],
   "source": [
    "vae = VAE(encoder, decoder)\n",
    "vae.compile(optimizer=keras.optimizers.Adam())\n",
    "history = vae.fit(trainXCUT, epochs=25, batch_size=32)"
   ]
  },
  {
   "cell_type": "markdown",
   "metadata": {},
   "source": [
    "# Load classification model"
   ]
  },
  {
   "cell_type": "code",
   "execution_count": 187,
   "metadata": {},
   "outputs": [],
   "source": [
    "classification_model = tf.keras.models.load_model('TrainedModel/trainedModel.h5')"
   ]
  },
  {
   "cell_type": "markdown",
   "metadata": {
    "tags": []
   },
   "source": [
    "# Test reconstructed dataset with the classification model"
   ]
  },
  {
   "cell_type": "code",
   "execution_count": 188,
   "metadata": {},
   "outputs": [
    {
     "name": "stdout",
     "output_type": "stream",
     "text": [
      "4/4 [==============================] - 0s 4ms/step - loss: 10.9931 - accuracy: 0.0000e+00\n",
      "4/4 [==============================] - 0s 3ms/step - loss: 2.5360 - accuracy: 0.5750\n",
      "4/4 [==============================] - 0s 4ms/step - loss: 4.0564 - accuracy: 0.0000e+00\n",
      "4/4 [==============================] - 0s 4ms/step - loss: 13.6854 - accuracy: 0.0000e+00\n",
      "4/4 [==============================] - 0s 4ms/step - loss: 3.2280 - accuracy: 0.0000e+00\n",
      "4/4 [==============================] - 0s 3ms/step - loss: 8.0577 - accuracy: 0.0000e+00\n",
      "4/4 [==============================] - 0s 3ms/step - loss: 0.0994 - accuracy: 0.9833\n",
      "4/4 [==============================] - 0s 4ms/step - loss: 11.3957 - accuracy: 0.0000e+00\n",
      "4/4 [==============================] - 0s 4ms/step - loss: 9.5774 - accuracy: 0.0000e+00\n",
      "4/4 [==============================] - 0s 3ms/step - loss: 12.7894 - accuracy: 0.0000e+00\n",
      "4/4 [==============================] - 0s 3ms/step - loss: 7.1876 - accuracy: 0.0000e+00\n",
      "4/4 [==============================] - 0s 3ms/step - loss: 10.9673 - accuracy: 0.0000e+00\n",
      "4/4 [==============================] - 0s 4ms/step - loss: 11.2106 - accuracy: 0.0000e+00\n",
      "4/4 [==============================] - 0s 3ms/step - loss: 12.0647 - accuracy: 0.0000e+00\n"
     ]
    }
   ],
   "source": [
    "\n",
    "for i in range(14):\n",
    "    \n",
    "\n",
    "    trainXCUT = trainX[i::14]\n",
    "    trainYCUT = trainY[i::14]\n",
    "\n",
    "    z_mean, z_log_var, z = vae.encoder.predict(trainXCUT)\n",
    "    reconstructed_x = vae.decoder.predict(z)\n",
    "    \n",
    "    classification_model.evaluate((reconstructed_x),trainYCUT)\n",
    "    "
   ]
  },
  {
   "cell_type": "code",
   "execution_count": 192,
   "metadata": {},
   "outputs": [
    {
     "data": {
      "image/png": "[encoded data removed]",
      "text/plain": [
       "<Figure size 1440x360 with 1 Axes>"
      ]
     },
     "metadata": {
      "needs_background": "light"
     },
     "output_type": "display_data"
    }
   ],
   "source": [
    "\n",
    "trainXCUT = trainX[classToCut::14]\n",
    "trainYCUT = trainY[classToCut::14]\n",
    "\n",
    "z_mean, z_log_var, z = vae.encoder.predict(trainXCUT)\n",
    "reconstructed_x = vae.decoder.predict(z)*(maximum-minimum)+minimum\n",
    "\n",
    "fig = plt.figure(figsize=(20,5))\n",
    "#plt.plot(results)\n",
    "\n",
    "sampleToPredict = 17\n",
    "\n",
    "plt.plot(reconstructed_x[sampleToPredict],label='Reconstruction')\n",
    "plt.plot(trainXCUT[sampleToPredict]*(maximum-minimum)+minimum,label='Sample')\n",
    "#plt.plot(data3[0],label=3)\n",
    "#plt.plot(data4[0],label=4)\n",
    "#plt.plot(averageArray[0])\n",
    "\n",
    "plt.legend()\n",
    "plt.yticks(np.arange(0, 3, 1))\n",
    "plt.xticks(np.arange(0, 6000, 500))\n",
    "plt.grid()\n",
    "#plt.axhline(linewidth=1, color='r')\n",
    "plt.xlabel(\"5 ms\")\n",
    "plt.ylabel(\"PnP timing\")\n",
    "#figure(figsize=(8, 6), dpi=80)\n",
    "fig.savefig('vis_test.png',dpi=200)"
   ]
  },
  {
   "cell_type": "code",
   "execution_count": null,
   "metadata": {},
   "outputs": [],
   "source": []
  }
 ],
 "metadata": {
  "kernelspec": {
   "display_name": "env",
   "language": "python",
   "name": "env"
  },
  "language_info": {
   "codemirror_mode": {
    "name": "ipython",
    "version": 3
   },
   "file_extension": ".py",
   "mimetype": "text/x-python",
   "name": "python",
   "nbconvert_exporter": "python",
   "pygments_lexer": "ipython3",
   "version": "3.8.10"
  },
  "toc-autonumbering": false,
  "toc-showcode": false,
  "toc-showmarkdowntxt": false,
  "toc-showtags": false
 },
 "nbformat": 4,
 "nbformat_minor": 4
}
