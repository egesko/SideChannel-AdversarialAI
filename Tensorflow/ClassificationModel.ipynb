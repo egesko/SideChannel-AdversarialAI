{
 "cells": [
  {
   "cell_type": "code",
   "execution_count": 1,
   "id": "18d12369-f02b-4b9e-b0d2-fbf40f4fadc1",
   "metadata": {},
   "outputs": [],
   "source": [
    "import os\n",
    "os.environ['TF_CPP_MIN_LOG_LEVEL'] = '2'\n",
    "import tensorflow as tf\n",
    "from tensorflow import keras\n",
    "from tensorflow.keras import layers\n",
    "from tensorflow.keras.datasets import cifar10\n",
    "from csv import writer\n",
    "import pandas as pd\n",
    "\n",
    "import numpy as np\n",
    "from matplotlib import pyplot as plt\n",
    "from matplotlib import ticker as ticker"
   ]
  },
  {
   "cell_type": "code",
   "execution_count": 2,
   "id": "430f180e-bcac-4aa1-a04a-710bb7e05f36",
   "metadata": {},
   "outputs": [],
   "source": [
    "physical_devices = tf.config.list_physical_devices('GPU')\n",
    "tf.config.experimental.set_memory_growth(physical_devices[0],True)"
   ]
  },
  {
   "cell_type": "code",
   "execution_count": 3,
   "id": "94577011-5e80-441d-a2c2-70571fa02a29",
   "metadata": {},
   "outputs": [],
   "source": [
    "train_X = pd.read_csv('DataSet/trainX13.csv')\n",
    "train_Y = pd.read_csv('DataSet/trainY13.csv')\n",
    "\n",
    "trainY = train_Y.to_numpy()\n",
    "trainX = train_X.to_numpy()\n",
    "trainX = np.expand_dims(trainX,axis=2)"
   ]
  },
  {
   "cell_type": "code",
   "execution_count": 6,
   "id": "76cc9df3-9492-441f-bc37-66b0208cccc3",
   "metadata": {},
   "outputs": [],
   "source": [
    "minimum = np.amin(trainX)\n",
    "maximum = np.amax(trainX)\n",
    "\n",
    "trainX = (trainX-minimum)/(maximum-minimum)"
   ]
  },
  {
   "cell_type": "code",
   "execution_count": 4,
   "id": "665ff2db-76e6-42ba-9616-bae2d69044a7",
   "metadata": {},
   "outputs": [],
   "source": [
    "numberOfWebsites = 14\n",
    "def my_model_sddec():\n",
    "\n",
    "    input_1 = keras.Input(shape = (6000,1))\n",
    "\n",
    "    conv1d_1 = layers.Conv1D(256,16,strides=3,padding='valid',activation='relu',use_bias=True,kernel_initializer='VarianceScaling',bias_initializer = 'Zeros')(input_1)#possibly update kernel_initializer\n",
    "    max_pooling1d_1 = layers.MaxPooling1D(pool_size = 4,strides = 4, padding = 'same')(conv1d_1)\n",
    "\n",
    "    conv1d_2 = layers.Conv1D(128,8,strides=3,padding='valid',activation='relu',use_bias=True,kernel_initializer='VarianceScaling',bias_initializer = 'Zeros')(max_pooling1d_1)#possibly update kernel_initializer\n",
    "    max_pooling1d_2 = layers.MaxPooling1D(pool_size = 4,strides = 4, padding = 'same')(conv1d_2)\n",
    "\n",
    "    conv1d_3 = layers.Conv1D(32,8,strides=3,padding='same',activation='relu',use_bias=True,kernel_initializer='VarianceScaling',bias_initializer = 'Zeros')(max_pooling1d_2)#possibly update kernel_initializer\n",
    "    max_pooling1d_2 = layers.MaxPooling1D(pool_size = 4,strides = 4, padding = 'same')(conv1d_3)\n",
    "\n",
    "    # conv1d_1 = layers.Conv1D(256,16,strides=3,padding='valid',activation='relu',use_bias=True,kernel_initializer='VarianceScaling',bias_initializer = 'Zeros')(input_1)#possibly update kernel_initializer\n",
    "    \n",
    "    # max_pooling1d_1 = layers.MaxPooling1D(pool_size = 4,strides = 4, padding = 'same')(conv1d_1)\n",
    "    \n",
    "    # conv1d_2 = layers.Conv1D(32,8,strides=3,padding='same',activation='relu',use_bias=True,kernel_initializer='VarianceScaling',bias_initializer = 'Zeros')(max_pooling1d_1)#possibly update kernel_initializer\n",
    "\n",
    "    # max_pooling1d_2 = layers.MaxPooling1D(pool_size = 4,strides = 4, padding = 'same')(conv1d_2)\n",
    "\n",
    "    #lstm_1 = layers.LSTM(32,activation='tanh',recurrent_activation='hard_sigmoid',use_bias=True,kernel_initializer='VarianceScaling',recurrent_initializer = 'orthogonal',bias_initializer='Zeros', return_sequences = True)(max_pooling1d_2) #Variance Scaling\n",
    "\n",
    "    flatten_1 = layers.Flatten()(max_pooling1d_2)\n",
    "\n",
    "    #dropout_1 = layers.Dropout(0.3)(flatten_1)\n",
    "\n",
    "    #dense_1 = layers.Dense(300,activation = 'relu')(dropout_1)\n",
    "\n",
    "    dropout_2 = layers.Dropout(0.15)(flatten_1)\n",
    "\n",
    "    dense_2= layers.Dense(numberOfWebsites, kernel_regularizer = 'l2',activation = 'softmax', kernel_initializer = 'VarianceScaling', bias_initializer = 'zeros')(dropout_2)\n",
    "\n",
    "    model = keras.Model(inputs = input_1, outputs = dense_2)\n",
    "    return model"
   ]
  },
  {
   "cell_type": "code",
   "execution_count": 7,
   "id": "f1d39ebc-4f37-410c-b37c-c59c1c37b56a",
   "metadata": {
    "scrolled": true,
    "tags": []
   },
   "outputs": [
    {
     "name": "stdout",
     "output_type": "stream",
     "text": [
      "Epoch 1/20\n",
      "74/74 [==============================] - 1s 8ms/step - loss: 2.3461 - accuracy: 0.2579 - val_loss: 2.0422 - val_accuracy: 0.4187\n",
      "Epoch 2/20\n",
      "74/74 [==============================] - 0s 6ms/step - loss: 1.4464 - accuracy: 0.5574 - val_loss: 1.2382 - val_accuracy: 0.7024\n",
      "Epoch 3/20\n",
      "74/74 [==============================] - 0s 6ms/step - loss: 0.8122 - accuracy: 0.7983 - val_loss: 0.8379 - val_accuracy: 0.8413\n",
      "Epoch 4/20\n",
      "74/74 [==============================] - 0s 5ms/step - loss: 0.5994 - accuracy: 0.8315 - val_loss: 0.8078 - val_accuracy: 0.8591\n",
      "Epoch 5/20\n",
      "74/74 [==============================] - 0s 6ms/step - loss: 0.4623 - accuracy: 0.8740 - val_loss: 0.7683 - val_accuracy: 0.8671\n",
      "Epoch 6/20\n",
      "74/74 [==============================] - 0s 6ms/step - loss: 0.3536 - accuracy: 0.9132 - val_loss: 0.7913 - val_accuracy: 0.8849\n",
      "Epoch 7/20\n",
      "74/74 [==============================] - 0s 6ms/step - loss: 0.3166 - accuracy: 0.9277 - val_loss: 0.8100 - val_accuracy: 0.8750\n",
      "Epoch 8/20\n",
      "74/74 [==============================] - 0s 6ms/step - loss: 0.2996 - accuracy: 0.9328 - val_loss: 0.7663 - val_accuracy: 0.9028\n",
      "Epoch 9/20\n",
      "74/74 [==============================] - 0s 6ms/step - loss: 0.2359 - accuracy: 0.9549 - val_loss: 0.6437 - val_accuracy: 0.8869\n",
      "Epoch 10/20\n",
      "74/74 [==============================] - 0s 6ms/step - loss: 0.2460 - accuracy: 0.9455 - val_loss: 0.6130 - val_accuracy: 0.9127\n",
      "Epoch 11/20\n",
      "74/74 [==============================] - 0s 6ms/step - loss: 0.1897 - accuracy: 0.9634 - val_loss: 0.6292 - val_accuracy: 0.9067\n",
      "Epoch 12/20\n",
      "74/74 [==============================] - 0s 5ms/step - loss: 0.1880 - accuracy: 0.9634 - val_loss: 0.7195 - val_accuracy: 0.9087\n",
      "Epoch 13/20\n",
      "74/74 [==============================] - 0s 6ms/step - loss: 0.1797 - accuracy: 0.9694 - val_loss: 0.5758 - val_accuracy: 0.9028\n",
      "Epoch 14/20\n",
      "74/74 [==============================] - 0s 6ms/step - loss: 0.1811 - accuracy: 0.9617 - val_loss: 0.6547 - val_accuracy: 0.9127\n",
      "Epoch 15/20\n",
      "74/74 [==============================] - 0s 6ms/step - loss: 0.1635 - accuracy: 0.9694 - val_loss: 0.6665 - val_accuracy: 0.9087\n",
      "Epoch 16/20\n",
      "74/74 [==============================] - 0s 6ms/step - loss: 0.1485 - accuracy: 0.9736 - val_loss: 0.7280 - val_accuracy: 0.9048\n",
      "Epoch 17/20\n",
      "74/74 [==============================] - 0s 6ms/step - loss: 0.1221 - accuracy: 0.9779 - val_loss: 0.6614 - val_accuracy: 0.9127\n",
      "Epoch 18/20\n",
      "74/74 [==============================] - 0s 6ms/step - loss: 0.1223 - accuracy: 0.9813 - val_loss: 0.6177 - val_accuracy: 0.9087\n",
      "Epoch 19/20\n",
      "74/74 [==============================] - 0s 6ms/step - loss: 0.1043 - accuracy: 0.9864 - val_loss: 0.7791 - val_accuracy: 0.9028\n",
      "Epoch 20/20\n",
      "74/74 [==============================] - 0s 6ms/step - loss: 0.1252 - accuracy: 0.9745 - val_loss: 0.6778 - val_accuracy: 0.9067\n"
     ]
    }
   ],
   "source": [
    "\n",
    "model = my_model_sddec()\n",
    "\n",
    "model.compile(\n",
    "\tloss=keras.losses.SparseCategoricalCrossentropy(),\n",
    "\toptimizer=keras.optimizers.Adam(),\n",
    "\tmetrics=[\"accuracy\"]\n",
    ")\n",
    "\n",
    "history = model.fit(trainX, trainY,validation_split = 0.3, batch_size=16, epochs=20, verbose=1)"
   ]
  },
  {
   "cell_type": "code",
   "execution_count": 8,
   "id": "75b5b6d5-7cc7-45d5-8f4a-336b558b77a6",
   "metadata": {},
   "outputs": [],
   "source": [
    "model.save('TrainedModel/trainedModel.h5',save_format='h5')"
   ]
  },
  {
   "cell_type": "code",
   "execution_count": 9,
   "id": "adfa6ddd-9e0c-47f3-8317-77f5f804ef27",
   "metadata": {},
   "outputs": [
    {
     "data": {
      "image/png": "[encoded data removed]",
      "text/plain": [
       "<Figure size 432x288 with 1 Axes>"
      ]
     },
     "metadata": {
      "needs_background": "light"
     },
     "output_type": "display_data"
    }
   ],
   "source": [
    "\n",
    "fig = plt.figure()\n",
    "\n",
    "#plotting\n",
    "\n",
    "plt.locator_params(axis=\"x\", nbins=20)\n",
    "plt.locator_params(axis=\"y\", nbins=10)\n",
    "\n",
    "plt.plot(history.history['accuracy'])\n",
    "plt.plot(history.history['val_accuracy'])\n",
    "plt.title('model accuracy')\n",
    "plt.ylabel('accuracy')\n",
    "plt.xlabel('epoch')\n",
    "plt.legend(['training','validation'], loc='upper left')\n",
    "fig.savefig('plot.png')"
   ]
  },
  {
   "cell_type": "code",
   "execution_count": null,
   "id": "03de73d2-0b3c-4f66-8bdd-ca6a8bb9d498",
   "metadata": {},
   "outputs": [],
   "source": []
  }
 ],
 "metadata": {
  "kernelspec": {
   "display_name": "env",
   "language": "python",
   "name": "env"
  },
  "language_info": {
   "codemirror_mode": {
    "name": "ipython",
    "version": 3
   },
   "file_extension": ".py",
   "mimetype": "text/x-python",
   "name": "python",
   "nbconvert_exporter": "python",
   "pygments_lexer": "ipython3",
   "version": "3.8.10"
  }
 },
 "nbformat": 4,
 "nbformat_minor": 5
}
