{
 "cells": [
  {
   "cell_type": "code",
   "execution_count": 1,
   "id": "18d12369-f02b-4b9e-b0d2-fbf40f4fadc1",
   "metadata": {},
   "outputs": [],
   "source": [
    "import os\n",
    "os.environ['TF_CPP_MIN_LOG_LEVEL'] = '2'\n",
    "import tensorflow as tf\n",
    "from tensorflow import keras\n",
    "from tensorflow.keras import layers\n",
    "from tensorflow.keras.datasets import cifar10\n",
    "from csv import writer\n",
    "import pandas as pd\n",
    "\n",
    "import numpy as np\n",
    "from matplotlib import pyplot as plt\n",
    "from matplotlib import ticker as ticker\n",
    "from sklearn.utils import shuffle"
   ]
  },
  {
   "cell_type": "code",
   "execution_count": 2,
   "id": "430f180e-bcac-4aa1-a04a-710bb7e05f36",
   "metadata": {},
   "outputs": [],
   "source": [
    "physical_devices = tf.config.list_physical_devices('GPU')\n",
    "tf.config.experimental.set_memory_growth(physical_devices[0],True)"
   ]
  },
  {
   "cell_type": "code",
   "execution_count": 3,
   "id": "94577011-5e80-441d-a2c2-70571fa02a29",
   "metadata": {},
   "outputs": [
    {
     "name": "stdout",
     "output_type": "stream",
     "text": [
      "(1680, 6000)\n"
     ]
    }
   ],
   "source": [
    "train_X = pd.read_csv('DataSet/trainX.csv', header=None)\n",
    "train_Y = pd.read_csv('DataSet/trainY.csv', header=None)\n",
    "\n",
    "\n",
    "trainY = train_Y.to_numpy()\n",
    "trainX = train_X.to_numpy()\n",
    "\n",
    "\n",
    "print(trainX.shape)\n",
    "trainX = np.expand_dims(trainX,axis=2)"
   ]
  },
  {
   "cell_type": "code",
   "execution_count": 4,
   "id": "76cc9df3-9492-441f-bc37-66b0208cccc3",
   "metadata": {},
   "outputs": [],
   "source": [
    "minimum = np.amin(trainX)\n",
    "maximum = np.amax(trainX)\n",
    "\n",
    "trainX = (trainX-minimum)/(maximum-minimum)\n",
    "\n",
    "trainX_tensor =  tf.convert_to_tensor(trainX)\n",
    "output = tf.nn.max_pool1d(trainX_tensor, 2, 2, padding='VALID')"
   ]
  },
  {
   "cell_type": "code",
   "execution_count": 5,
   "id": "c259bd0e-b5be-4886-8c08-19fc29e586d5",
   "metadata": {},
   "outputs": [
    {
     "data": {
      "text/plain": [
       "TensorShape([1680, 3000, 1])"
      ]
     },
     "execution_count": 5,
     "metadata": {},
     "output_type": "execute_result"
    }
   ],
   "source": [
    "output.shape"
   ]
  },
  {
   "cell_type": "code",
   "execution_count": 8,
   "id": "665ff2db-76e6-42ba-9616-bae2d69044a7",
   "metadata": {},
   "outputs": [],
   "source": [
    "numberOfWebsites = 14\n",
    "def my_model_sddec():\n",
    "\n",
    "    input_1 = keras.Input(shape = (3000,1))\n",
    "\n",
    "    conv1d_1 = layers.Conv1D(256,16,strides=3,padding='valid',activation='relu',use_bias=True)(input_1)#possibly update kernel_initializer\n",
    "    max_pooling1d_1 = layers.MaxPooling1D(pool_size = 4,strides = 4, padding = 'same')(conv1d_1)\n",
    "\n",
    "    conv1d_2 = layers.Conv1D(128,8,strides=3,padding='valid',activation='relu',use_bias=True)(max_pooling1d_1)#possibly update kernel_initializer\n",
    "    max_pooling1d_2 = layers.MaxPooling1D(pool_size = 4,strides = 4, padding = 'same')(conv1d_2)\n",
    "\n",
    "    conv1d_3 = layers.Conv1D(32,8,strides=3,padding='same',activation='relu',use_bias=True)(max_pooling1d_2)#possibly update kernel_initializer\n",
    "    max_pooling1d_2 = layers.MaxPooling1D(pool_size = 4,strides = 4, padding = 'same')(conv1d_3)\n",
    "\n",
    "    # conv1d_1 = layers.Conv1D(256,16,strides=3,padding='valid',activation='relu',use_bias=True,kernel_initializer='VarianceScaling',bias_initializer = 'Zeros')(input_1)#possibly update kernel_initializer\n",
    "    \n",
    "    # max_pooling1d_1 = layers.MaxPooling1D(pool_size = 4,strides = 4, padding = 'same')(conv1d_1)\n",
    "    \n",
    "    # conv1d_2 = layers.Conv1D(32,8,strides=3,padding='same',activation='relu',use_bias=True,kernel_initializer='VarianceScaling',bias_initializer = 'Zeros')(max_pooling1d_1)#possibly update kernel_initializer\n",
    "\n",
    "    # max_pooling1d_2 = layers.MaxPooling1D(pool_size = 4,strides = 4, padding = 'same')(conv1d_2)\n",
    "\n",
    "    #lstm_1 = layers.LSTM(32,activation='tanh',recurrent_activation='hard_sigmoid',use_bias=True,kernel_initializer='VarianceScaling',recurrent_initializer = 'orthogonal',bias_initializer='Zeros', return_sequences = True)(max_pooling1d_2) #Variance Scaling\n",
    "\n",
    "    flatten_1 = layers.Flatten()(max_pooling1d_2)\n",
    "    \n",
    "    #x = layers.Dense(200,activation = 'softmax')(flatten_1)\n",
    "\n",
    "    #dropout_1 = layers.Dropout(0.3)(flatten_1)\n",
    "\n",
    "    #dense_1 = layers.Dense(300,activation = 'relu')(dropout_1)\n",
    "\n",
    "    #dropout_2 = layers.Dropout(0.5)(x)\n",
    "\n",
    "    dense_2= layers.Dense(numberOfWebsites, kernel_regularizer = 'l2',activation = 'softmax')(flatten_1)\n",
    "\n",
    "    model = keras.Model(inputs = input_1, outputs = dense_2)\n",
    "    return model"
   ]
  },
  {
   "cell_type": "code",
   "execution_count": 9,
   "id": "f1d39ebc-4f37-410c-b37c-c59c1c37b56a",
   "metadata": {
    "scrolled": true,
    "tags": []
   },
   "outputs": [
    {
     "name": "stdout",
     "output_type": "stream",
     "text": [
      "Model: \"model_1\"\n",
      "_________________________________________________________________\n",
      " Layer (type)                Output Shape              Param #   \n",
      "=================================================================\n",
      " input_2 (InputLayer)        [(None, 3000, 1)]         0         \n",
      "                                                                 \n",
      " conv1d_3 (Conv1D)           (None, 995, 256)          4352      \n",
      "                                                                 \n",
      " max_pooling1d_3 (MaxPooling  (None, 249, 256)         0         \n",
      " 1D)                                                             \n",
      "                                                                 \n",
      " conv1d_4 (Conv1D)           (None, 81, 128)           262272    \n",
      "                                                                 \n",
      " max_pooling1d_4 (MaxPooling  (None, 21, 128)          0         \n",
      " 1D)                                                             \n",
      "                                                                 \n",
      " conv1d_5 (Conv1D)           (None, 7, 32)             32800     \n",
      "                                                                 \n",
      " max_pooling1d_5 (MaxPooling  (None, 2, 32)            0         \n",
      " 1D)                                                             \n",
      "                                                                 \n",
      " flatten_1 (Flatten)         (None, 64)                0         \n",
      "                                                                 \n",
      " dense_1 (Dense)             (None, 14)                910       \n",
      "                                                                 \n",
      "=================================================================\n",
      "Total params: 300,334\n",
      "Trainable params: 300,334\n",
      "Non-trainable params: 0\n",
      "_________________________________________________________________\n"
     ]
    }
   ],
   "source": [
    "\n",
    "model = my_model_sddec()\n",
    "\n",
    "model.summary()\n"
   ]
  },
  {
   "cell_type": "code",
   "execution_count": 10,
   "id": "f8432bd6-b7c3-40cb-aa35-a767d1f77f26",
   "metadata": {
    "scrolled": true,
    "tags": []
   },
   "outputs": [
    {
     "name": "stdout",
     "output_type": "stream",
     "text": [
      "(1680, 3000, 1)\n",
      "Epoch 1/25\n",
      "37/37 [==============================] - 3s 12ms/step - loss: 2.5222 - accuracy: 0.1752 - val_loss: 2.2086 - val_accuracy: 0.3155\n",
      "Epoch 2/25\n",
      "37/37 [==============================] - 0s 7ms/step - loss: 1.7048 - accuracy: 0.4770 - val_loss: 1.8615 - val_accuracy: 0.5298\n",
      "Epoch 3/25\n",
      "37/37 [==============================] - 0s 7ms/step - loss: 1.1484 - accuracy: 0.7432 - val_loss: 1.4488 - val_accuracy: 0.7143\n",
      "Epoch 4/25\n",
      "37/37 [==============================] - 0s 6ms/step - loss: 0.8483 - accuracy: 0.7857 - val_loss: 1.2237 - val_accuracy: 0.7421\n",
      "Epoch 5/25\n",
      "37/37 [==============================] - 0s 6ms/step - loss: 0.6174 - accuracy: 0.8759 - val_loss: 1.1596 - val_accuracy: 0.7857\n",
      "Epoch 6/25\n",
      "37/37 [==============================] - 0s 6ms/step - loss: 0.5384 - accuracy: 0.8810 - val_loss: 1.1885 - val_accuracy: 0.7897\n",
      "Epoch 7/25\n",
      "37/37 [==============================] - 0s 6ms/step - loss: 0.4565 - accuracy: 0.9056 - val_loss: 0.8813 - val_accuracy: 0.8929\n",
      "Epoch 8/25\n",
      "37/37 [==============================] - 0s 6ms/step - loss: 0.3431 - accuracy: 0.9481 - val_loss: 0.9151 - val_accuracy: 0.8929\n",
      "Epoch 9/25\n",
      "37/37 [==============================] - 0s 6ms/step - loss: 0.2892 - accuracy: 0.9685 - val_loss: 0.8630 - val_accuracy: 0.9048\n",
      "Epoch 10/25\n",
      "37/37 [==============================] - 0s 7ms/step - loss: 0.2607 - accuracy: 0.9719 - val_loss: 0.9911 - val_accuracy: 0.8869\n",
      "Epoch 11/25\n",
      "37/37 [==============================] - 0s 6ms/step - loss: 0.2877 - accuracy: 0.9541 - val_loss: 0.8865 - val_accuracy: 0.8889\n",
      "Epoch 12/25\n",
      "37/37 [==============================] - 0s 6ms/step - loss: 0.2711 - accuracy: 0.9600 - val_loss: 0.8398 - val_accuracy: 0.9107\n",
      "Epoch 13/25\n",
      "37/37 [==============================] - 0s 6ms/step - loss: 0.2205 - accuracy: 0.9753 - val_loss: 0.8156 - val_accuracy: 0.8770\n",
      "Epoch 14/25\n",
      "37/37 [==============================] - 0s 6ms/step - loss: 0.2401 - accuracy: 0.9694 - val_loss: 0.8837 - val_accuracy: 0.8988\n",
      "Epoch 15/25\n",
      "37/37 [==============================] - 0s 7ms/step - loss: 0.1793 - accuracy: 0.9821 - val_loss: 0.7938 - val_accuracy: 0.9147\n",
      "Epoch 16/25\n",
      "37/37 [==============================] - 0s 6ms/step - loss: 0.1663 - accuracy: 0.9872 - val_loss: 0.7056 - val_accuracy: 0.9226\n",
      "Epoch 17/25\n",
      "37/37 [==============================] - 0s 7ms/step - loss: 0.1602 - accuracy: 0.9881 - val_loss: 0.9204 - val_accuracy: 0.9127\n",
      "Epoch 18/25\n",
      "37/37 [==============================] - 0s 6ms/step - loss: 0.1571 - accuracy: 0.9864 - val_loss: 0.8891 - val_accuracy: 0.9107\n",
      "Epoch 19/25\n",
      "37/37 [==============================] - 0s 6ms/step - loss: 0.1504 - accuracy: 0.9855 - val_loss: 0.8476 - val_accuracy: 0.9147\n",
      "Epoch 20/25\n",
      "37/37 [==============================] - 0s 6ms/step - loss: 0.1363 - accuracy: 0.9932 - val_loss: 0.9011 - val_accuracy: 0.9127\n",
      "Epoch 21/25\n",
      "37/37 [==============================] - 0s 6ms/step - loss: 0.1496 - accuracy: 0.9855 - val_loss: 0.8001 - val_accuracy: 0.9167\n",
      "Epoch 22/25\n",
      "37/37 [==============================] - 0s 6ms/step - loss: 0.1339 - accuracy: 0.9906 - val_loss: 0.8372 - val_accuracy: 0.9087\n",
      "Epoch 23/25\n",
      "37/37 [==============================] - 0s 6ms/step - loss: 0.1224 - accuracy: 0.9940 - val_loss: 0.7894 - val_accuracy: 0.9187\n",
      "Epoch 24/25\n",
      "37/37 [==============================] - 0s 6ms/step - loss: 0.1272 - accuracy: 0.9898 - val_loss: 0.7652 - val_accuracy: 0.9147\n",
      "Epoch 25/25\n",
      "37/37 [==============================] - 0s 6ms/step - loss: 0.1159 - accuracy: 0.9966 - val_loss: 0.8528 - val_accuracy: 0.9147\n"
     ]
    }
   ],
   "source": [
    "model.compile(\n",
    "\tloss=keras.losses.SparseCategoricalCrossentropy(),\n",
    "\toptimizer=keras.optimizers.Adam(),\n",
    "\tmetrics=[\"accuracy\"]\n",
    ")\n",
    "\n",
    "\n",
    "#output, trainY = shuffle(output,trainY, random_state=0)\n",
    "print(output.shape)\n",
    "\n",
    "history = model.fit(output, trainY,validation_split = 0.3, batch_size=32, epochs=25, verbose=1)"
   ]
  },
  {
   "cell_type": "code",
   "execution_count": 10,
   "id": "75b5b6d5-7cc7-45d5-8f4a-336b558b77a6",
   "metadata": {},
   "outputs": [],
   "source": [
    "model.save('TrainedModel/trainedModel.h5',save_format='h5')"
   ]
  },
  {
   "cell_type": "code",
   "execution_count": 11,
   "id": "adfa6ddd-9e0c-47f3-8317-77f5f804ef27",
   "metadata": {},
   "outputs": [
    {
     "data": {
      "image/png": "[encoded data removed]",
      "text/plain": [
       "<Figure size 720x360 with 1 Axes>"
      ]
     },
     "metadata": {
      "needs_background": "light"
     },
     "output_type": "display_data"
    }
   ],
   "source": [
    "\n",
    "fig = plt.figure(figsize=(10,5))\n",
    "\n",
    "\n",
    "#plotting\n",
    "\n",
    "plt.locator_params(axis=\"x\", nbins=20)\n",
    "plt.locator_params(axis=\"y\", nbins=10)\n",
    "\n",
    "plt.plot(history.history['accuracy'])\n",
    "plt.plot(history.history['val_accuracy'])\n",
    "plt.title('model accuracy')\n",
    "plt.ylabel('accuracy')\n",
    "plt.xlabel('epoch')\n",
    "plt.legend(['training','validation'], loc='upper left')\n",
    "fig.savefig('plot.png',dpi=200)"
   ]
  },
  {
   "cell_type": "code",
   "execution_count": 12,
   "id": "03de73d2-0b3c-4f66-8bdd-ca6a8bb9d498",
   "metadata": {},
   "outputs": [
    {
     "data": {
      "image/png": "[encoded data removed]",
      "text/plain": [
       "<Figure size 720x360 with 1 Axes>"
      ]
     },
     "metadata": {
      "needs_background": "light"
     },
     "output_type": "display_data"
    }
   ],
   "source": [
    "\n",
    "fig = plt.figure(figsize=(10,5))\n",
    "\n",
    "\n",
    "#plotting\n",
    "\n",
    "plt.locator_params(axis=\"x\", nbins=20)\n",
    "plt.locator_params(axis=\"y\", nbins=10)\n",
    "\n",
    "plt.plot(history.history['loss'])\n",
    "plt.plot(history.history['val_loss'])\n",
    "plt.title('model loss')\n",
    "plt.ylabel('loss')\n",
    "plt.xlabel('epoch')\n",
    "plt.legend(['training','validation'], loc='upper left')\n",
    "fig.savefig('plot.png',dpi=200)"
   ]
  },
  {
   "cell_type": "code",
   "execution_count": null,
   "id": "1c57a817-9443-481d-a2e3-f50dbb486f86",
   "metadata": {},
   "outputs": [],
   "source": []
  }
 ],
 "metadata": {
  "kernelspec": {
   "display_name": "env",
   "language": "python",
   "name": "env"
  },
  "language_info": {
   "codemirror_mode": {
    "name": "ipython",
    "version": 3
   },
   "file_extension": ".py",
   "mimetype": "text/x-python",
   "name": "python",
   "nbconvert_exporter": "python",
   "pygments_lexer": "ipython3",
   "version": "3.8.10"
  }
 },
 "nbformat": 4,
 "nbformat_minor": 5
}
