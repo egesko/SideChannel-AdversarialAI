{
 "cells": [
  {
   "cell_type": "code",
   "execution_count": 1,
   "id": "7b891d2f-0caa-40a7-9cf8-a776add3c853",
   "metadata": {},
   "outputs": [],
   "source": [
    "import os\n",
    "os.environ['TF_CPP_MIN_LOG_LEVEL'] = '2'\n",
    "import tensorflow as tf\n",
    "from tensorflow import keras\n",
    "from tensorflow.keras import layers\n",
    "from tensorflow.keras.datasets import cifar10\n",
    "from csv import writer\n",
    "import pandas as pd\n",
    "\n",
    "import numpy as np\n",
    "from matplotlib import pyplot as plt\n",
    "from matplotlib import ticker as ticker"
   ]
  },
  {
   "cell_type": "code",
   "execution_count": 2,
   "id": "8df4ea7e-8c33-404c-a2e6-0ce26918c484",
   "metadata": {},
   "outputs": [],
   "source": [
    "physical_devices = tf.config.list_physical_devices('GPU')\n",
    "tf.config.experimental.set_memory_growth(physical_devices[0],True)"
   ]
  },
  {
   "cell_type": "code",
   "execution_count": 3,
   "id": "f107c39f-d8da-42a3-a79b-da2d631297fa",
   "metadata": {},
   "outputs": [],
   "source": [
    "train_X = pd.read_csv('DataSet/trainX13.csv', header=None)\n",
    "train_Y = pd.read_csv('DataSet/trainY13.csv', header=None)\n",
    "\n",
    "trainY = train_Y.to_numpy()\n",
    "trainX = train_X.to_numpy()\n",
    "trainX = np.expand_dims(trainX,axis=2)"
   ]
  },
  {
   "cell_type": "code",
   "execution_count": 5,
   "id": "2bb01cdd-e582-42f0-98f3-a166d4661018",
   "metadata": {},
   "outputs": [],
   "source": [
    "def poolingModel():\n",
    "\n",
    "    input_1 = keras.Input(shape = (6000,1))\n",
    "    \n",
    "    max_pooling1d_1 = layers.MaxPooling1D(pool_size = 2,strides = 2, padding = 'same')(input_1)\n",
    "    \n",
    "    model = keras.Model(inputs = input_1, outputs = max_pooling1d_1)"
   ]
  },
  {
   "cell_type": "code",
   "execution_count": 7,
   "id": "1142d849-f9cf-4d7b-b684-512f20b6fbf5",
   "metadata": {},
   "outputs": [
    {
     "ename": "AttributeError",
     "evalue": "'NoneType' object has no attribute 'summary'",
     "output_type": "error",
     "traceback": [
      "\u001b[0;31m---------------------------------------------------------------------------\u001b[0m",
      "\u001b[0;31mAttributeError\u001b[0m                            Traceback (most recent call last)",
      "Input \u001b[0;32mIn [7]\u001b[0m, in \u001b[0;36m<cell line: 3>\u001b[0;34m()\u001b[0m\n\u001b[1;32m      1\u001b[0m model \u001b[38;5;241m=\u001b[39m poolingModel()\n\u001b[0;32m----> 3\u001b[0m \u001b[43mmodel\u001b[49m\u001b[38;5;241;43m.\u001b[39;49m\u001b[43msummary\u001b[49m()\n",
      "\u001b[0;31mAttributeError\u001b[0m: 'NoneType' object has no attribute 'summary'"
     ]
    }
   ],
   "source": [
    "\n",
    "model = poolingModel()\n",
    "\n",
    "model.summary()"
   ]
  },
  {
   "cell_type": "code",
   "execution_count": 20,
   "id": "f41b8c41-8aa2-44f6-926c-eca60aba9413",
   "metadata": {},
   "outputs": [],
   "source": [
    "#bac = trainX[0][None][:,:,None]\n",
    "trainX_tensor =  tf.convert_to_tensor(trainX)\n",
    "output = tf.nn.max_pool1d(trainX_tensor, 2, 2, padding='VALID')"
   ]
  },
  {
   "cell_type": "code",
   "execution_count": 21,
   "id": "1fb5abf1-4100-43d7-8279-5038acefb2cc",
   "metadata": {},
   "outputs": [
    {
     "data": {
      "text/plain": [
       "<tf.Tensor: shape=(3000, 1), dtype=float64, numpy=\n",
       "array([[11.5],\n",
       "       [11.8],\n",
       "       [ 5. ],\n",
       "       ...,\n",
       "       [ 3.1],\n",
       "       [ 3.2],\n",
       "       [ 3.1]])>"
      ]
     },
     "execution_count": 21,
     "metadata": {},
     "output_type": "execute_result"
    }
   ],
   "source": [
    "output[0]"
   ]
  },
  {
   "cell_type": "code",
   "execution_count": 23,
   "id": "ec9dfab4-c20a-49a9-87d6-e34f23654e1a",
   "metadata": {},
   "outputs": [
    {
     "data": {
      "text/plain": [
       "<tf.Tensor: shape=(1680, 6000, 1), dtype=float64, numpy=\n",
       "array([[[ 8.1],\n",
       "        [11.5],\n",
       "        [ 5. ],\n",
       "        ...,\n",
       "        [ 3.2],\n",
       "        [ 3.1],\n",
       "        [ 3. ]],\n",
       "\n",
       "       [[ 6.2],\n",
       "        [ 5.5],\n",
       "        [ 5.3],\n",
       "        ...,\n",
       "        [ 3.2],\n",
       "        [ 3.1],\n",
       "        [ 3.2]],\n",
       "\n",
       "       [[11.4],\n",
       "        [ 5. ],\n",
       "        [ 8.3],\n",
       "        ...,\n",
       "        [ 5. ],\n",
       "        [ 5.5],\n",
       "        [ 5.8]],\n",
       "\n",
       "       ...,\n",
       "\n",
       "       [[ 6. ],\n",
       "        [ 5.3],\n",
       "        [ 6.6],\n",
       "        ...,\n",
       "        [ 3.2],\n",
       "        [ 3.2],\n",
       "        [ 3.2]],\n",
       "\n",
       "       [[ 7.2],\n",
       "        [ 6.4],\n",
       "        [ 5.7],\n",
       "        ...,\n",
       "        [ 3.2],\n",
       "        [ 3.2],\n",
       "        [ 3.2]],\n",
       "\n",
       "       [[ 5.9],\n",
       "        [ 5.9],\n",
       "        [ 7.9],\n",
       "        ...,\n",
       "        [ 2.8],\n",
       "        [ 2.8],\n",
       "        [ 2.9]]])>"
      ]
     },
     "execution_count": 23,
     "metadata": {},
     "output_type": "execute_result"
    }
   ],
   "source": [
    "trainX_tensor"
   ]
  },
  {
   "cell_type": "code",
   "execution_count": null,
   "id": "c03ba146-4373-4963-a175-32106491e72a",
   "metadata": {},
   "outputs": [],
   "source": []
  }
 ],
 "metadata": {
  "kernelspec": {
   "display_name": "env",
   "language": "python",
   "name": "env"
  },
  "language_info": {
   "codemirror_mode": {
    "name": "ipython",
    "version": 3
   },
   "file_extension": ".py",
   "mimetype": "text/x-python",
   "name": "python",
   "nbconvert_exporter": "python",
   "pygments_lexer": "ipython3",
   "version": "3.8.10"
  }
 },
 "nbformat": 4,
 "nbformat_minor": 5
}
